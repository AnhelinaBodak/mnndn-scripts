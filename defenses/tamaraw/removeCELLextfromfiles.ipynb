{
 "cells": [
  {
   "cell_type": "code",
   "execution_count": 11,
   "id": "67b3470d",
   "metadata": {},
   "outputs": [
    {
     "name": "stderr",
     "output_type": "stream",
     "text": [
      "100%|██████████████████████████████████| 20000/20000 [00:01<00:00, 16597.42it/s]"
     ]
    },
    {
     "name": "stdout",
     "output_type": "stream",
     "text": [
      "done\n"
     ]
    },
    {
     "name": "stderr",
     "output_type": "stream",
     "text": [
      "\n"
     ]
    }
   ],
   "source": [
    "import os\n",
    "from tqdm import tqdm\n",
    "src_dir_fd = \"../../../../ds19/\"\n",
    "flist = os.listdir(src_dir_fd)\n",
    "flist = [f for f in flist if \"-\" in f]\n",
    "flist.sort()\n",
    "\n",
    "dst_dir_fd = \"../../../../ds19cellOnly/\"\n",
    "#print(flist)\n",
    "for fname in tqdm(flist):\n",
    "    if '.cell' in fname:\n",
    "        src = fname\n",
    "        dst = src.split('.')[0]\n",
    "\n",
    "        os.rename(src_dir_fd+src,dst_dir_fd+ dst, src_dir_fd=None, dst_dir_fd=None)\n",
    "print(\"done\")"
   ]
  },
  {
   "cell_type": "code",
   "execution_count": null,
   "id": "a9e958f7",
   "metadata": {},
   "outputs": [],
   "source": []
  }
 ],
 "metadata": {
  "kernelspec": {
   "display_name": "Python 3 (ipykernel)",
   "language": "python",
   "name": "python3"
  },
  "language_info": {
   "codemirror_mode": {
    "name": "ipython",
    "version": 3
   },
   "file_extension": ".py",
   "mimetype": "text/x-python",
   "name": "python",
   "nbconvert_exporter": "python",
   "pygments_lexer": "ipython3",
   "version": "3.11.5"
  }
 },
 "nbformat": 4,
 "nbformat_minor": 5
}
