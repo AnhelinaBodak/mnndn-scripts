{
 "cells": [
  {
   "cell_type": "code",
   "execution_count": 1,
   "id": "fbe17e4c",
   "metadata": {},
   "outputs": [],
   "source": [
    "import stumpy\n",
    "import pickle\n",
    "import numpy as np\n",
    "from tqdm import tqdm\n",
    "import sklearn.metrics as metrics\n",
    "\n",
    "from multiprocessing import Pool\n",
    "from sklearn.ensemble import RandomForestClassifier\n",
    "#from pipelinetools import *\n",
    "from sklearn.model_selection import train_test_split\n",
    "import matplotlib.pyplot as plt"
   ]
  },
  {
   "cell_type": "code",
   "execution_count": 2,
   "id": "a421c33b",
   "metadata": {},
   "outputs": [
    {
     "ename": "UnpicklingError",
     "evalue": "unpickling stack underflow",
     "output_type": "error",
     "traceback": [
      "\u001b[0;31m---------------------------------------------------------------------------\u001b[0m",
      "\u001b[0;31mUnpicklingError\u001b[0m                           Traceback (most recent call last)",
      "Cell \u001b[0;32mIn[2], line 4\u001b[0m\n\u001b[1;32m      2\u001b[0m fn \u001b[38;5;241m=\u001b[39m \u001b[38;5;124m\"\u001b[39m\u001b[38;5;124m0-1\u001b[39m\u001b[38;5;124m\"\u001b[39m\n\u001b[1;32m      3\u001b[0m \u001b[38;5;28;01mwith\u001b[39;00m \u001b[38;5;28mopen\u001b[39m(inputfolder\u001b[38;5;241m+\u001b[39mfn, \u001b[38;5;124m'\u001b[39m\u001b[38;5;124mrb\u001b[39m\u001b[38;5;124m'\u001b[39m) \u001b[38;5;28;01mas\u001b[39;00m f:\n\u001b[0;32m----> 4\u001b[0m     traces_train\u001b[38;5;241m=\u001b[39m pickle\u001b[38;5;241m.\u001b[39mload( f)\n",
      "\u001b[0;31mUnpicklingError\u001b[0m: unpickling stack underflow"
     ]
    }
   ],
   "source": [
    "inputfolder = \"../results/Regulator/\"\n",
    "fn = \"0-1\"\n",
    "file_name = inputfolder+ fn\n",
    "with open(file_name) as fptr:\n",
    "    for line in fptr:\n",
    "            time = float(line.strip().split('\\t')[0])\n",
    "            direction = line.strip().split('\\t')[1]\n",
    "\n",
    "            if int(direction) > 0:\n",
    "                direction = np.int(1)\n",
    "            else:\n",
    "                direction = np.int(-1)\n",
    "\n",
    "            website = file_name.split('-')[0]\n",
    "            trace_line = (time, direction, website, file_name)\n",
    "\n",
    "            if time < cutoff_time:\n",
    "                all_lines.append(trace_line)\n"
   ]
  },
  {
   "cell_type": "code",
   "execution_count": null,
   "id": "f2c15afa",
   "metadata": {},
   "outputs": [],
   "source": []
  }
 ],
 "metadata": {
  "kernelspec": {
   "display_name": "Python 3 (ipykernel)",
   "language": "python",
   "name": "python3"
  },
  "language_info": {
   "codemirror_mode": {
    "name": "ipython",
    "version": 3
   },
   "file_extension": ".py",
   "mimetype": "text/x-python",
   "name": "python",
   "nbconvert_exporter": "python",
   "pygments_lexer": "ipython3",
   "version": "3.11.5"
  }
 },
 "nbformat": 4,
 "nbformat_minor": 5
}
