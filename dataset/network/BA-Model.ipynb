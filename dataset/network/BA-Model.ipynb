{
 "cells": [
  {
   "cell_type": "code",
   "execution_count": 1,
   "id": "1f09a2dc",
   "metadata": {},
   "outputs": [],
   "source": [
    "import networkx as nx\n",
    "import random"
   ]
  },
  {
   "cell_type": "code",
   "execution_count": 2,
   "id": "762d3224",
   "metadata": {},
   "outputs": [],
   "source": [
    "def assign_edge_delay(G, min_weight=5, max_weight=25, variation=5):\n",
    "    \"\"\"\n",
    "    Assigns weights to edges based on node connectivity.\n",
    "    Nodes with high connectivity will have lower weights, and nodes with low connectivity will have higher weights.\n",
    "    The weight values are scaled between min_weight and max_weight.\n",
    "    \n",
    "    Parameters:\n",
    "    G (networkx.Graph): The input graph.\n",
    "    min_weight (int, optional): Minimum edge weight (default is 5).\n",
    "    max_weight (int, optional): Maximum edge weight (default is 50).\n",
    "    \n",
    "    Returns:\n",
    "    G (networkx.Graph): The graph with weighted edges.\n",
    "    \"\"\"\n",
    "    node_degrees = dict(G.degree())\n",
    "    min_degree = min(node_degrees.values())\n",
    "    max_degree = max(node_degrees.values())\n",
    "    \n",
    "    for u, v in G.edges():\n",
    "        avg_degree = (node_degrees[u] + node_degrees[v]) / 2\n",
    "        normalized_weight = 1 - (avg_degree - min_degree) / (max_degree - min_degree)\n",
    "        weight = min_weight + (max_weight - min_weight) * normalized_weight\n",
    "        weight = float(round(weight))\n",
    "        weight += random.randint(-variation, variation)\n",
    "        if weight < min_weight:\n",
    "            weight = float(min_weight)\n",
    "        G[u][v]['delay'] = weight\n",
    "    \n",
    "    return G"
   ]
  },
  {
   "cell_type": "code",
   "execution_count": 3,
   "id": "c526ac06",
   "metadata": {},
   "outputs": [],
   "source": [
    "def assign_servers(G, num_servers):\n",
    "    \"\"\"\n",
    "    Relabels num_servers nodes as server_0, server_1, ..., selecting nodes from the edge of the network\n",
    "    and placing them as closely together as possible.\n",
    "    \"\"\"\n",
    "    node_degrees = dict(G.degree())\n",
    "    edge_nodes = [node for node, degree in node_degrees.items() if degree == 1]\n",
    "\n",
    "    # Choose a random starting edge node\n",
    "    start_node = random.choice(edge_nodes)\n",
    "    G.nodes[start_node][\"type\"] = \"server_start_position\"\n",
    "    \n",
    "    #print(edge_nodes)\n",
    "    \n",
    "    # Find the closest edge nodes to the starting node\n",
    "    shortest_paths = nx.shortest_path_length(G, source=start_node)\n",
    "    # get the num_servers closest edge nodes\n",
    "    selected_nodes = [node_id for node_id, distance in shortest_paths.items() if node_id in edge_nodes][:num_servers]\n",
    "    \n",
    "    for i in range(len(selected_nodes)):\n",
    "        G.nodes[selected_nodes[i]][\"type\"] = \"server\"\n",
    "        \n",
    "        if i == len(selected_nodes) - 1:\n",
    "            G.nodes[selected_nodes[i]][\"label\"] = f\"dns\"\n",
    "        else:\n",
    "            G.nodes[selected_nodes[i]][\"label\"] = f\"s{i}\"\n",
    "    \n",
    "    return G"
   ]
  },
  {
   "cell_type": "code",
   "execution_count": 4,
   "id": "2a3e8b36",
   "metadata": {},
   "outputs": [],
   "source": [
    "def assign_users(G, num_users):\n",
    "    \"\"\"\n",
    "    Relabels num_users nodes as user_0, user_1, ..., selecting nodes from the edge of the network.\n",
    "    \"\"\"\n",
    "    node_degrees = dict(G.degree())\n",
    "    edge_nodes = [node for node, degree in node_degrees.items() if degree == 1 and G.nodes[node][\"type\"] != \"server\"]\n",
    "    \n",
    "    selected_nodes = random.sample(edge_nodes, num_users)\n",
    "    \n",
    "    for i in range(len(selected_nodes)):\n",
    "        G.nodes[selected_nodes[i]][\"type\"] = \"user\"\n",
    "        \n",
    "        if i == len(selected_nodes) - 1:\n",
    "            G.nodes[selected_nodes[i]][\"label\"] = f\"pu\"\n",
    "        else:\n",
    "            G.nodes[selected_nodes[i]][\"label\"] = f\"u{i}\"\n",
    "        \n",
    "    return G"
   ]
  },
  {
   "cell_type": "code",
   "execution_count": 5,
   "id": "b414d725",
   "metadata": {},
   "outputs": [],
   "source": [
    "def assign_relays(G, num_relays):\n",
    "    \"\"\"\n",
    "    Relabels num_users nodes as user_0, user_1, ..., selecting nodes from the edge of the network.\n",
    "    \"\"\"\n",
    "    node_degrees = dict(G.degree())\n",
    "    relay_nodes = [node for node, degree in node_degrees.items() if G.nodes[node][\"type\"] != \"user\" and G.nodes[node][\"type\"] != \"server\" and degree <= 5]\n",
    "    \n",
    "    selected_nodes = random.sample(relay_nodes, num_relays)\n",
    "    \n",
    "    for i in range(len(selected_nodes)):\n",
    "        G.nodes[selected_nodes[i]][\"type\"] = \"relay\"\n",
    "        G.nodes[selected_nodes[i]][\"label\"] = f\"r{i}\"\n",
    "    \n",
    "    return G"
   ]
  },
  {
   "cell_type": "code",
   "execution_count": 6,
   "id": "cb41c5e1",
   "metadata": {},
   "outputs": [],
   "source": [
    "graph = nx.barabasi_albert_graph(150, 1)\n",
    "graph = assign_edge_delay(graph)\n",
    "\n",
    "i = 0\n",
    "for node in graph.nodes():\n",
    "    graph.nodes[node][\"type\"] = \"unassigned\"\n",
    "    graph.nodes[node][\"label\"] = f\"z{i}\"\n",
    "    i+=1\n",
    "\n",
    "graph = assign_servers(graph, num_servers=51) # one extra for DNS\n",
    "graph = assign_users(graph, num_users=11) # one extra for \"primary user\"\n",
    "graph = assign_relays(graph, num_relays=12)"
   ]
  },
  {
   "cell_type": "code",
   "execution_count": 7,
   "id": "1b22b654",
   "metadata": {},
   "outputs": [],
   "source": [
    "def get_node_label(G, node_id):\n",
    "    return G.nodes[node_id][\"label\"]\n",
    "\n",
    "def save_as_config(G, filename):\n",
    "    with open(filename, 'w') as f:\n",
    "        f.write(\"[nodes]\\n\")\n",
    "        for node in G.nodes():\n",
    "            f.write(f\"{get_node_label(G, node)}\\n\")\n",
    "        \n",
    "        f.write(\"[links]\\n\")\n",
    "        for u, v in G.edges():\n",
    "            f.write(f\"{get_node_label(G, u)}:{get_node_label(G, v)} delay=0ms\\n\")"
   ]
  },
  {
   "cell_type": "code",
   "execution_count": 8,
   "id": "6627fc63",
   "metadata": {},
   "outputs": [],
   "source": [
    "save_as_config(graph, \"ba-topo.conf\")\n",
    "nx.write_graphml(graph, \"barabasi_albert_graph.graphml\")"
   ]
  },
  {
   "cell_type": "code",
   "execution_count": null,
   "id": "31ee535b",
   "metadata": {},
   "outputs": [],
   "source": []
  }
 ],
 "metadata": {
  "kernelspec": {
   "display_name": "Python 3 (ipykernel)",
   "language": "python",
   "name": "python3"
  },
  "language_info": {
   "codemirror_mode": {
    "name": "ipython",
    "version": 3
   },
   "file_extension": ".py",
   "mimetype": "text/x-python",
   "name": "python",
   "nbconvert_exporter": "python",
   "pygments_lexer": "ipython3",
   "version": "3.9.13"
  }
 },
 "nbformat": 4,
 "nbformat_minor": 5
}
